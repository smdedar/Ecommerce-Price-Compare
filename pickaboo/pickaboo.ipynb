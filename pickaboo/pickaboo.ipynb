{
 "metadata": {
  "language_info": {
   "codemirror_mode": {
    "name": "ipython",
    "version": 3
   },
   "file_extension": ".py",
   "mimetype": "text/x-python",
   "name": "python",
   "nbconvert_exporter": "python",
   "pygments_lexer": "ipython3",
   "version": "3.7.6-final"
  },
  "orig_nbformat": 2,
  "kernelspec": {
   "name": "python3",
   "display_name": "Python 3"
  }
 },
 "nbformat": 4,
 "nbformat_minor": 2,
 "cells": [
  {
   "cell_type": "code",
   "execution_count": 5,
   "metadata": {},
   "outputs": [],
   "source": [
    "import requests\n",
    "from bs4 import BeautifulSoup\n",
    "\n",
    "result = requests.get(\"https://www.pickaboo.com/catalogsearch/result/?q=realme\")\n",
    "src = result.content\n",
    "soup = BeautifulSoup(src, 'lxml')"
   ]
  },
  {
   "cell_type": "code",
   "execution_count": 1,
   "metadata": {},
   "outputs": [],
   "source": [
    "import requests\n",
    "from bs4 import BeautifulSoup"
   ]
  },
  {
   "cell_type": "code",
   "execution_count": 6,
   "metadata": {},
   "outputs": [
    {
     "output_type": "stream",
     "name": "stdout",
     "text": [
      "24\n"
     ]
    }
   ],
   "source": [
    "product_images = soup.find_all('img', attrs={'class': 'product-image-photo'})\n",
    "\n",
    "print(len(product_images))\n",
    "\n",
    "product_images = list(dict.fromkeys(product_images))\n",
    "\n",
    "product_names = soup.find_all('strong', attrs={'class': 'product name product-item-name'})\n",
    "\n",
    "# print(product_name)\n",
    "product_prices =  soup.find_all('span', attrs={'data-price-type': 'finalPrice'})\n",
    "\n",
    "\n",
    "\n",
    "\n",
    "product_name_only = []\n",
    "for product_name in product_names:\n",
    "    product_name_only.append(product_name.text.strip())\n",
    "\n",
    "\n",
    "product_price_only = []\n",
    "for product_price in product_prices:\n",
    "    product_price_only.append(product_price.text.strip())\n",
    "\n",
    "\n",
    "product_image_only = []\n",
    "for product_image in product_images:\n",
    "    product_image_only.append(product_image.attrs['src'])"
   ]
  },
  {
   "cell_type": "code",
   "execution_count": 7,
   "metadata": {},
   "outputs": [
    {
     "output_type": "stream",
     "name": "stdout",
     "text": [
      "12\n"
     ]
    }
   ],
   "source": [
    "import pandas as pd\n",
    "import numpy as np\n",
    "import json\n",
    "\n",
    "print(len(product_image_only))\n",
    "\n",
    "#df = pd.DataFrame(ignore_index=True, axis=1)\n",
    "\n",
    "#df['image'] = product_image_only\n",
    "#df['name'] = product_name_only\n",
    "#df['price'] = product_price_only\n",
    "\n",
    "df_img = pd.DataFrame({'image':product_image_only})\n",
    "df_name = pd.DataFrame({'name':product_name_only})\n",
    "df_price = pd.DataFrame({'price':product_price_only})\n",
    "\n",
    "df = pd.concat([df_img,df_name,df_price], axis=1)\n",
    "\n",
    "df.to_json('pickaboo.json')\n",
    "#print(df)\n"
   ]
  },
  {
   "cell_type": "code",
   "execution_count": null,
   "metadata": {},
   "outputs": [],
   "source": []
  }
 ]
}